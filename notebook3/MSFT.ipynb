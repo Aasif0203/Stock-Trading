{
 "cells": [
  {
   "cell_type": "code",
   "execution_count": 2,
   "id": "786f13fd",
   "metadata": {},
   "outputs": [
    {
     "name": "stderr",
     "output_type": "stream",
     "text": [
      "[nltk_data] Downloading package vader_lexicon to\n",
      "[nltk_data]     C:\\Users\\INDIA\\AppData\\Roaming\\nltk_data...\n",
      "[nltk_data]   Package vader_lexicon is already up-to-date!\n"
     ]
    },
    {
     "data": {
      "text/plain": [
       "True"
      ]
     },
     "execution_count": 2,
     "metadata": {},
     "output_type": "execute_result"
    }
   ],
   "source": [
    "import yfinance as yf\n",
    "import pandas as pd\n",
    "from datetime import datetime, timedelta\n",
    "from nltk.sentiment.vader import SentimentIntensityAnalyzer\n",
    "import requests\n",
    "from bs4 import BeautifulSoup\n",
    "import nltk\n",
    "nltk.download('vader_lexicon')\n"
   ]
  },
  {
   "cell_type": "code",
   "execution_count": 3,
   "id": "2a380e26",
   "metadata": {},
   "outputs": [
    {
     "name": "stderr",
     "output_type": "stream",
     "text": [
      "C:\\Users\\INDIA\\AppData\\Local\\Temp\\ipykernel_49984\\86153763.py:5: FutureWarning: YF.download() has changed argument auto_adjust default to True\n",
      "  stock_df = yf.download(ticker, start=start, end=end)\n",
      "[*********************100%***********************]  1 of 1 completed\n"
     ]
    },
    {
     "data": {
      "text/html": [
       "<div>\n",
       "<style scoped>\n",
       "    .dataframe tbody tr th:only-of-type {\n",
       "        vertical-align: middle;\n",
       "    }\n",
       "\n",
       "    .dataframe tbody tr th {\n",
       "        vertical-align: top;\n",
       "    }\n",
       "\n",
       "    .dataframe thead tr th {\n",
       "        text-align: left;\n",
       "    }\n",
       "</style>\n",
       "<table border=\"1\" class=\"dataframe\">\n",
       "  <thead>\n",
       "    <tr>\n",
       "      <th>Price</th>\n",
       "      <th>Date</th>\n",
       "      <th>Close</th>\n",
       "    </tr>\n",
       "    <tr>\n",
       "      <th>Ticker</th>\n",
       "      <th></th>\n",
       "      <th>MSFT</th>\n",
       "    </tr>\n",
       "  </thead>\n",
       "  <tbody>\n",
       "    <tr>\n",
       "      <th>0</th>\n",
       "      <td>2021-01-04</td>\n",
       "      <td>209.617188</td>\n",
       "    </tr>\n",
       "    <tr>\n",
       "      <th>1</th>\n",
       "      <td>2021-01-05</td>\n",
       "      <td>209.819397</td>\n",
       "    </tr>\n",
       "    <tr>\n",
       "      <th>2</th>\n",
       "      <td>2021-01-06</td>\n",
       "      <td>204.378906</td>\n",
       "    </tr>\n",
       "    <tr>\n",
       "      <th>3</th>\n",
       "      <td>2021-01-07</td>\n",
       "      <td>210.194946</td>\n",
       "    </tr>\n",
       "    <tr>\n",
       "      <th>4</th>\n",
       "      <td>2021-01-08</td>\n",
       "      <td>211.475632</td>\n",
       "    </tr>\n",
       "  </tbody>\n",
       "</table>\n",
       "</div>"
      ],
      "text/plain": [
       "Price        Date       Close\n",
       "Ticker                   MSFT\n",
       "0      2021-01-04  209.617188\n",
       "1      2021-01-05  209.819397\n",
       "2      2021-01-06  204.378906\n",
       "3      2021-01-07  210.194946\n",
       "4      2021-01-08  211.475632"
      ]
     },
     "execution_count": 3,
     "metadata": {},
     "output_type": "execute_result"
    }
   ],
   "source": [
    "ticker = \"MSFT\"\n",
    "start = \"2021-01-01\"\n",
    "end = datetime.today().strftime('%Y-%m-%d')\n",
    "\n",
    "stock_df = yf.download(ticker, start=start, end=end)\n",
    "stock_df = stock_df[['Close']].reset_index()\n",
    "stock_df.head()\n"
   ]
  },
  {
   "cell_type": "code",
   "execution_count": 5,
   "metadata": {},
   "outputs": [
    {
     "name": "stdout",
     "output_type": "stream",
     "text": [
      "['News', 'Life', 'Entertainment', 'Finance', 'Sports']\n"
     ]
    }
   ],
   "source": [
    "def get_yahoo_finance_news(ticker=\"AAPL\"):\n",
    "    url = f\"https://finance.yahoo.com/quote/{ticker}?p={ticker}\"\n",
    "    r = requests.get(url, headers={'User-Agent': 'Mozilla/5.0'})\n",
    "    soup = BeautifulSoup(r.text, \"html.parser\")\n",
    "    \n",
    "    headlines = []\n",
    "    for item in soup.find_all('h3'):  # Yahoo Finance news headlines\n",
    "        text = item.get_text(strip=True)\n",
    "        if text:\n",
    "            headlines.append(text)\n",
    "    return headlines\n",
    "\n",
    "news = get_yahoo_finance_news(\"MSFT\")\n",
    "print(news[:5])\n"
   ]
  },
  {
   "cell_type": "code",
   "execution_count": 7,
   "id": "95be4f55",
   "metadata": {},
   "outputs": [
    {
     "name": "stdout",
     "output_type": "stream",
     "text": [
      "{'pos': 0.06476785714285714, 'neg': 0.015339285714285713, 'neu': 0.9198750000000001, 'compound': 0.04192142857142857}\n"
     ]
    }
   ],
   "source": [
    "sia = SentimentIntensityAnalyzer()\n",
    "\n",
    "def daily_sentiment(ticker=\"AAPL\"):\n",
    "    headlines = get_yahoo_finance_news(ticker)\n",
    "    scores = {\"pos\":0, \"neg\":0, \"neu\":0, \"compound\":0}\n",
    "    \n",
    "    for h in headlines:\n",
    "        s = sia.polarity_scores(h)\n",
    "        for k in scores:\n",
    "            scores[k] += s[k]\n",
    "    \n",
    "    n = len(headlines) if headlines else 1\n",
    "    for k in scores:\n",
    "        scores[k] /= n\n",
    "    return scores\n",
    "\n",
    "sentiment_today = daily_sentiment(\"MSFT\")\n",
    "print(sentiment_today)\n"
   ]
  },
  {
   "cell_type": "code",
   "execution_count": 8,
   "id": "e602c886",
   "metadata": {},
   "outputs": [
    {
     "data": {
      "text/html": [
       "<div>\n",
       "<style scoped>\n",
       "    .dataframe tbody tr th:only-of-type {\n",
       "        vertical-align: middle;\n",
       "    }\n",
       "\n",
       "    .dataframe tbody tr th {\n",
       "        vertical-align: top;\n",
       "    }\n",
       "\n",
       "    .dataframe thead th {\n",
       "        text-align: right;\n",
       "    }\n",
       "</style>\n",
       "<table border=\"1\" class=\"dataframe\">\n",
       "  <thead>\n",
       "    <tr style=\"text-align: right;\">\n",
       "      <th></th>\n",
       "      <th>Date</th>\n",
       "      <th>pos</th>\n",
       "      <th>neg</th>\n",
       "      <th>neu</th>\n",
       "      <th>compound</th>\n",
       "    </tr>\n",
       "  </thead>\n",
       "  <tbody>\n",
       "    <tr>\n",
       "      <th>0</th>\n",
       "      <td>2025-05-20</td>\n",
       "      <td>0.051702</td>\n",
       "      <td>0.023018</td>\n",
       "      <td>0.925298</td>\n",
       "      <td>0.019109</td>\n",
       "    </tr>\n",
       "    <tr>\n",
       "      <th>1</th>\n",
       "      <td>2025-05-21</td>\n",
       "      <td>0.051702</td>\n",
       "      <td>0.023018</td>\n",
       "      <td>0.925298</td>\n",
       "      <td>0.019109</td>\n",
       "    </tr>\n",
       "    <tr>\n",
       "      <th>2</th>\n",
       "      <td>2025-05-22</td>\n",
       "      <td>0.051702</td>\n",
       "      <td>0.023018</td>\n",
       "      <td>0.925298</td>\n",
       "      <td>0.019109</td>\n",
       "    </tr>\n",
       "    <tr>\n",
       "      <th>3</th>\n",
       "      <td>2025-05-23</td>\n",
       "      <td>0.051702</td>\n",
       "      <td>0.023018</td>\n",
       "      <td>0.925298</td>\n",
       "      <td>0.019109</td>\n",
       "    </tr>\n",
       "    <tr>\n",
       "      <th>4</th>\n",
       "      <td>2025-05-24</td>\n",
       "      <td>0.051702</td>\n",
       "      <td>0.023018</td>\n",
       "      <td>0.925298</td>\n",
       "      <td>0.019109</td>\n",
       "    </tr>\n",
       "  </tbody>\n",
       "</table>\n",
       "</div>"
      ],
      "text/plain": [
       "        Date       pos       neg       neu  compound\n",
       "0 2025-05-20  0.051702  0.023018  0.925298  0.019109\n",
       "1 2025-05-21  0.051702  0.023018  0.925298  0.019109\n",
       "2 2025-05-22  0.051702  0.023018  0.925298  0.019109\n",
       "3 2025-05-23  0.051702  0.023018  0.925298  0.019109\n",
       "4 2025-05-24  0.051702  0.023018  0.925298  0.019109"
      ]
     },
     "execution_count": 8,
     "metadata": {},
     "output_type": "execute_result"
    }
   ],
   "source": [
    "dates = pd.date_range(end=datetime.today(), periods=90).strftime('%Y-%m-%d')\n",
    "\n",
    "sentiment_df = pd.DataFrame([\n",
    "    {\"Date\": d, **daily_sentiment(\"AAPL\")} for d in dates\n",
    "])\n",
    "\n",
    "sentiment_df[\"Date\"] = pd.to_datetime(sentiment_df[\"Date\"])\n",
    "sentiment_df.head()\n"
   ]
  },
  {
   "cell_type": "code",
   "execution_count": 9,
   "id": "769cbfe5",
   "metadata": {},
   "outputs": [
    {
     "name": "stderr",
     "output_type": "stream",
     "text": [
      "C:\\Users\\INDIA\\AppData\\Local\\Temp\\ipykernel_49984\\1973003056.py:1: FutureWarning: YF.download() has changed argument auto_adjust default to True\n",
      "  stock_df = yf.download(ticker, start=start, end=end)\n",
      "[*********************100%***********************]  1 of 1 completed\n"
     ]
    }
   ],
   "source": [
    "stock_df = yf.download(ticker, start=start, end=end)\n",
    "\n",
    "# Drop multi-level index if exists\n",
    "stock_df.columns = stock_df.columns.get_level_values(0)\n",
    "\n",
    "# Keep only Close price and reset index\n",
    "stock_df = stock_df[['Close']].reset_index()\n"
   ]
  },
  {
   "cell_type": "code",
   "execution_count": 10,
   "id": "b55ac092",
   "metadata": {},
   "outputs": [
    {
     "name": "stdout",
     "output_type": "stream",
     "text": [
      "        Date       Close       pos       neg       neu  compound  Next_Close\n",
      "0 2025-05-20  458.170013  0.051702  0.023018  0.925298  0.019109  452.570007\n",
      "1 2025-05-21  452.570007  0.051702  0.023018  0.925298  0.019109  454.859985\n",
      "2 2025-05-22  454.859985  0.051702  0.023018  0.925298  0.019109  450.179993\n",
      "3 2025-05-23  450.179993  0.051702  0.023018  0.925298  0.019109  460.690002\n",
      "4 2025-05-27  460.690002  0.051702  0.023018  0.925298  0.019109  457.359985\n"
     ]
    }
   ],
   "source": [
    "# Ensure Date is datetime in both DataFrames\n",
    "stock_df[\"Date\"] = pd.to_datetime(stock_df[\"Date\"])\n",
    "sentiment_df[\"Date\"] = pd.to_datetime(sentiment_df[\"Date\"])\n",
    "\n",
    "# Merge on Date\n",
    "merged_df = pd.merge(stock_df, sentiment_df, on=\"Date\", how=\"inner\")\n",
    "\n",
    "# Create target (next day's close)\n",
    "merged_df[\"Next_Close\"] = merged_df[\"Close\"].shift(-1)\n",
    "merged_df = merged_df.dropna()\n",
    "\n",
    "print(merged_df.head())\n"
   ]
  },
  {
   "cell_type": "code",
   "execution_count": 11,
   "id": "6c5fd5f8",
   "metadata": {},
   "outputs": [],
   "source": [
    "features = [\"Close\", \"pos\", \"neg\", \"neu\", \"compound\"]\n",
    "X = merged_df[features]\n",
    "y = merged_df[\"Next_Close\"]\n"
   ]
  },
  {
   "cell_type": "code",
   "execution_count": 21,
   "id": "1649b387",
   "metadata": {},
   "outputs": [],
   "source": [
    "from sklearn.model_selection import train_test_split\n",
    "X_train, X_test, y_train, y_test = train_test_split(\n",
    "    X, y, test_size=0.5, shuffle=False  # keep time order\n",
    ")\n"
   ]
  },
  {
   "cell_type": "code",
   "execution_count": 22,
   "id": "a22e53f3",
   "metadata": {},
   "outputs": [],
   "source": [
    "import pandas as pd\n",
    "from sklearn.model_selection import train_test_split\n",
    "from sklearn.preprocessing import StandardScaler\n",
    "from sklearn.compose import ColumnTransformer\n",
    "from sklearn.pipeline import Pipeline\n",
    "from sklearn.ensemble import RandomForestRegressor\n",
    "from sklearn.metrics import mean_absolute_error, r2_score\n",
    "\n",
    "\n",
    "preprocessor = ColumnTransformer(\n",
    "    transformers=[\n",
    "        (\"num\", StandardScaler(), features)\n",
    "    ],\n",
    "    remainder=\"passthrough\"  # if we had extra cols, keep them\n",
    ")\n"
   ]
  },
  {
   "cell_type": "code",
   "execution_count": 23,
   "id": "5cb463c8",
   "metadata": {},
   "outputs": [],
   "source": [
    "pipeline = Pipeline(steps=[\n",
    "    (\"preprocessor\", preprocessor),\n",
    "    (\"model\", RandomForestRegressor(\n",
    "        n_estimators=200,\n",
    "        max_depth=10,\n",
    "        random_state=42\n",
    "    ))\n",
    "])\n"
   ]
  },
  {
   "cell_type": "code",
   "execution_count": 24,
   "id": "842bc937",
   "metadata": {},
   "outputs": [
    {
     "name": "stdout",
     "output_type": "stream",
     "text": [
      "MAE: 19.18649708557131\n",
      "R²: -3.4422183474417567\n"
     ]
    }
   ],
   "source": [
    "pipeline.fit(X_train, y_train)\n",
    "\n",
    "y_pred = pipeline.predict(X_test)\n",
    "\n",
    "print(\"MAE:\", mean_absolute_error(y_test, y_pred))\n",
    "print(\"R²:\", r2_score(y_test, y_pred))\n"
   ]
  },
  {
   "cell_type": "code",
   "execution_count": 25,
   "id": "f8a81384",
   "metadata": {},
   "outputs": [
    {
     "name": "stdout",
     "output_type": "stream",
     "text": [
      "Predicted next close price: 494.98\n"
     ]
    }
   ],
   "source": [
    "latest_features = merged_df[features].iloc[-1:]\n",
    "next_day_prediction = pipeline.predict(latest_features)[0]\n",
    "\n",
    "print(f\"Predicted next close price: {next_day_prediction:.2f}\")\n"
   ]
  },
  {
   "cell_type": "code",
   "execution_count": 26,
   "id": "2aab426c",
   "metadata": {},
   "outputs": [],
   "source": [
    "import pandas as pd\n",
    "import numpy as np\n",
    "from sklearn.model_selection import TimeSeriesSplit\n",
    "from sklearn.preprocessing import StandardScaler\n",
    "from sklearn.compose import ColumnTransformer\n",
    "from sklearn.pipeline import Pipeline\n",
    "from sklearn.linear_model import LinearRegression, Ridge, Lasso\n",
    "from sklearn.svm import SVR\n",
    "from sklearn.ensemble import RandomForestRegressor, GradientBoostingRegressor\n",
    "from sklearn.neighbors import KNeighborsRegressor\n",
    "from sklearn.metrics import mean_absolute_error, r2_score\n",
    "\n",
    "\n",
    "models = {\n",
    "    \"Linear Regression\": LinearRegression(),\n",
    "    \"Ridge\": Ridge(alpha=1.0),\n",
    "    \"Lasso\": Lasso(alpha=0.001),\n",
    "    \"SVR (RBF)\": SVR(kernel=\"rbf\", C=100, gamma=0.1),\n",
    "    \"KNN\": KNeighborsRegressor(n_neighbors=5),\n",
    "    \"Random Forest\": RandomForestRegressor(n_estimators=200, max_depth=10, random_state=42),\n",
    "    \"Gradient Boosting\": GradientBoostingRegressor(n_estimators=200, learning_rate=0.05, max_depth=5, random_state=42)\n",
    "}\n"
   ]
  },
  {
   "cell_type": "code",
   "execution_count": 27,
   "id": "797020db",
   "metadata": {},
   "outputs": [
    {
     "name": "stdout",
     "output_type": "stream",
     "text": [
      "                         MAE        R²\n",
      "Linear Regression   4.908962 -0.641520\n",
      "Lasso               4.909459 -0.642310\n",
      "Ridge               4.977400 -0.810408\n",
      "SVR (RBF)           8.946023 -3.590208\n",
      "Gradient Boosting   9.265345 -3.524004\n",
      "Random Forest       9.461580 -3.759956\n",
      "KNN                10.500401 -4.704523\n"
     ]
    }
   ],
   "source": [
    "tscv = TimeSeriesSplit(n_splits=5)\n",
    "\n",
    "results = {}\n",
    "\n",
    "for name, model in models.items():\n",
    "    mae_scores, r2_scores = [], []\n",
    "    \n",
    "    pipeline = Pipeline(steps=[\n",
    "        (\"preprocessor\", preprocessor),\n",
    "        (\"model\", model)\n",
    "    ])\n",
    "    \n",
    "    for train_idx, test_idx in tscv.split(X):\n",
    "        X_train, X_test = X.iloc[train_idx], X.iloc[test_idx]\n",
    "        y_train, y_test = y.iloc[train_idx], y.iloc[test_idx]\n",
    "        \n",
    "        pipeline.fit(X_train, y_train)\n",
    "        y_pred = pipeline.predict(X_test)\n",
    "        \n",
    "        mae_scores.append(mean_absolute_error(y_test, y_pred))\n",
    "        r2_scores.append(r2_score(y_test, y_pred))\n",
    "    \n",
    "    results[name] = {\n",
    "        \"MAE\": np.mean(mae_scores),\n",
    "        \"R²\": np.mean(r2_scores)\n",
    "    }\n",
    "\n",
    "results_df = pd.DataFrame(results).T.sort_values(by=\"MAE\")\n",
    "print(results_df)\n"
   ]
  },
  {
   "cell_type": "code",
   "execution_count": 28,
   "id": "49ce8a0e",
   "metadata": {},
   "outputs": [
    {
     "name": "stdout",
     "output_type": "stream",
     "text": [
      "Best Model: Linear Regression\n",
      "Predicted next close price for tomorrow: 522.61\n"
     ]
    }
   ],
   "source": [
    "best_model_name = results_df.index[0]\n",
    "print(f\"Best Model: {best_model_name}\")\n",
    "\n",
    "# Refit best model on all data\n",
    "best_model = models[best_model_name]\n",
    "pipeline = Pipeline(steps=[(\"preprocessor\", preprocessor), (\"model\", best_model)])\n",
    "pipeline.fit(X, y)\n",
    "\n",
    "latest_features = merged_df[features].iloc[-1:]\n",
    "next_day_prediction = pipeline.predict(latest_features)[0]\n",
    "\n",
    "print(f\"Predicted next close price for tomorrow: {next_day_prediction:.2f}\")\n"
   ]
  },
  {
   "cell_type": "code",
   "execution_count": null,
   "id": "f06fc14a",
   "metadata": {},
   "outputs": [],
   "source": []
  }
 ],
 "metadata": {
  "kernelspec": {
   "display_name": "Python 3",
   "language": "python",
   "name": "python3"
  },
  "language_info": {
   "codemirror_mode": {
    "name": "ipython",
    "version": 3
   },
   "file_extension": ".py",
   "mimetype": "text/x-python",
   "name": "python",
   "nbconvert_exporter": "python",
   "pygments_lexer": "ipython3",
   "version": "3.10.0"
  }
 },
 "nbformat": 4,
 "nbformat_minor": 5
}
