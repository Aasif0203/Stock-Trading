{
 "cells": [
  {
   "cell_type": "code",
   "execution_count": 2,
   "id": "04ea5b91",
   "metadata": {},
   "outputs": [
    {
     "name": "stderr",
     "output_type": "stream",
     "text": [
      "[nltk_data] Downloading package vader_lexicon to\n",
      "[nltk_data]     C:\\Users\\INDIA\\AppData\\Roaming\\nltk_data...\n",
      "[nltk_data]   Package vader_lexicon is already up-to-date!\n"
     ]
    },
    {
     "data": {
      "text/plain": [
       "True"
      ]
     },
     "execution_count": 2,
     "metadata": {},
     "output_type": "execute_result"
    }
   ],
   "source": [
    "import yfinance as yf\n",
    "import pandas as pd\n",
    "from datetime import datetime, timedelta\n",
    "from nltk.sentiment.vader import SentimentIntensityAnalyzer\n",
    "import requests\n",
    "from bs4 import BeautifulSoup\n",
    "import nltk\n",
    "nltk.download('vader_lexicon')\n"
   ]
  },
  {
   "cell_type": "code",
   "execution_count": 3,
   "metadata": {},
   "outputs": [
    {
     "name": "stderr",
     "output_type": "stream",
     "text": [
      "C:\\Users\\INDIA\\AppData\\Local\\Temp\\ipykernel_47044\\4261289892.py:5: FutureWarning: YF.download() has changed argument auto_adjust default to True\n",
      "  stock_df = yf.download(ticker, start=start, end=end)\n",
      "[*********************100%***********************]  1 of 1 completed\n"
     ]
    },
    {
     "data": {
      "text/html": [
       "<div>\n",
       "<style scoped>\n",
       "    .dataframe tbody tr th:only-of-type {\n",
       "        vertical-align: middle;\n",
       "    }\n",
       "\n",
       "    .dataframe tbody tr th {\n",
       "        vertical-align: top;\n",
       "    }\n",
       "\n",
       "    .dataframe thead tr th {\n",
       "        text-align: left;\n",
       "    }\n",
       "</style>\n",
       "<table border=\"1\" class=\"dataframe\">\n",
       "  <thead>\n",
       "    <tr>\n",
       "      <th>Price</th>\n",
       "      <th>Date</th>\n",
       "      <th>Close</th>\n",
       "    </tr>\n",
       "    <tr>\n",
       "      <th>Ticker</th>\n",
       "      <th></th>\n",
       "      <th>AAPL</th>\n",
       "    </tr>\n",
       "  </thead>\n",
       "  <tbody>\n",
       "    <tr>\n",
       "      <th>0</th>\n",
       "      <td>2021-01-04</td>\n",
       "      <td>126.096573</td>\n",
       "    </tr>\n",
       "    <tr>\n",
       "      <th>1</th>\n",
       "      <td>2021-01-05</td>\n",
       "      <td>127.655617</td>\n",
       "    </tr>\n",
       "    <tr>\n",
       "      <th>2</th>\n",
       "      <td>2021-01-06</td>\n",
       "      <td>123.358528</td>\n",
       "    </tr>\n",
       "    <tr>\n",
       "      <th>3</th>\n",
       "      <td>2021-01-07</td>\n",
       "      <td>127.567947</td>\n",
       "    </tr>\n",
       "    <tr>\n",
       "      <th>4</th>\n",
       "      <td>2021-01-08</td>\n",
       "      <td>128.668991</td>\n",
       "    </tr>\n",
       "  </tbody>\n",
       "</table>\n",
       "</div>"
      ],
      "text/plain": [
       "Price        Date       Close\n",
       "Ticker                   AAPL\n",
       "0      2021-01-04  126.096573\n",
       "1      2021-01-05  127.655617\n",
       "2      2021-01-06  123.358528\n",
       "3      2021-01-07  127.567947\n",
       "4      2021-01-08  128.668991"
      ]
     },
     "execution_count": 3,
     "metadata": {},
     "output_type": "execute_result"
    }
   ],
   "source": [
    "ticker = \"AAPL\"\n",
    "start = \"2021-01-01\"\n",
    "end = datetime.today().strftime('%Y-%m-%d')\n",
    "\n",
    "stock_df = yf.download(ticker, start=start, end=end)\n",
    "stock_df = stock_df[['Close']].reset_index()\n",
    "stock_df.head()\n"
   ]
  },
  {
   "cell_type": "code",
   "execution_count": 4,
   "metadata": {},
   "outputs": [
    {
     "data": {
      "text/html": [
       "<div>\n",
       "<style scoped>\n",
       "    .dataframe tbody tr th:only-of-type {\n",
       "        vertical-align: middle;\n",
       "    }\n",
       "\n",
       "    .dataframe tbody tr th {\n",
       "        vertical-align: top;\n",
       "    }\n",
       "\n",
       "    .dataframe thead tr th {\n",
       "        text-align: left;\n",
       "    }\n",
       "</style>\n",
       "<table border=\"1\" class=\"dataframe\">\n",
       "  <thead>\n",
       "    <tr>\n",
       "      <th>Price</th>\n",
       "      <th>Date</th>\n",
       "      <th>Close</th>\n",
       "    </tr>\n",
       "    <tr>\n",
       "      <th>Ticker</th>\n",
       "      <th></th>\n",
       "      <th>AAPL</th>\n",
       "    </tr>\n",
       "  </thead>\n",
       "  <tbody>\n",
       "    <tr>\n",
       "      <th>1155</th>\n",
       "      <td>2025-08-11</td>\n",
       "      <td>227.179993</td>\n",
       "    </tr>\n",
       "    <tr>\n",
       "      <th>1156</th>\n",
       "      <td>2025-08-12</td>\n",
       "      <td>229.649994</td>\n",
       "    </tr>\n",
       "    <tr>\n",
       "      <th>1157</th>\n",
       "      <td>2025-08-13</td>\n",
       "      <td>233.330002</td>\n",
       "    </tr>\n",
       "    <tr>\n",
       "      <th>1158</th>\n",
       "      <td>2025-08-14</td>\n",
       "      <td>232.779999</td>\n",
       "    </tr>\n",
       "    <tr>\n",
       "      <th>1159</th>\n",
       "      <td>2025-08-15</td>\n",
       "      <td>231.589996</td>\n",
       "    </tr>\n",
       "  </tbody>\n",
       "</table>\n",
       "</div>"
      ],
      "text/plain": [
       "Price        Date       Close\n",
       "Ticker                   AAPL\n",
       "1155   2025-08-11  227.179993\n",
       "1156   2025-08-12  229.649994\n",
       "1157   2025-08-13  233.330002\n",
       "1158   2025-08-14  232.779999\n",
       "1159   2025-08-15  231.589996"
      ]
     },
     "execution_count": 4,
     "metadata": {},
     "output_type": "execute_result"
    }
   ],
   "source": [
    "stock_df.tail()"
   ]
  },
  {
   "cell_type": "code",
   "execution_count": 5,
   "id": "f58a410a",
   "metadata": {},
   "outputs": [
    {
     "name": "stdout",
     "output_type": "stream",
     "text": [
      "['News', 'Life', 'Entertainment', 'Finance', 'Sports']\n"
     ]
    }
   ],
   "source": [
    "def get_yahoo_finance_news(ticker=\"AAPL\"):\n",
    "    url = f\"https://finance.yahoo.com/quote/{ticker}?p={ticker}\"\n",
    "    r = requests.get(url, headers={'User-Agent': 'Mozilla/5.0'})\n",
    "    soup = BeautifulSoup(r.text, \"html.parser\")\n",
    "    \n",
    "    headlines = []\n",
    "    for item in soup.find_all('h3'):  # Yahoo Finance news headlines\n",
    "        text = item.get_text(strip=True)\n",
    "        if text:\n",
    "            headlines.append(text)\n",
    "    return headlines\n",
    "\n",
    "news = get_yahoo_finance_news(\"AAPL\")\n",
    "print(news[:5])\n"
   ]
  },
  {
   "cell_type": "code",
   "execution_count": 6,
   "metadata": {},
   "outputs": [
    {
     "name": "stdout",
     "output_type": "stream",
     "text": [
      "{'pos': 0.051701754385964915, 'neg': 0.023017543859649124, 'neu': 0.9252982456140352, 'compound': 0.019108771929824558}\n"
     ]
    }
   ],
   "source": [
    "sia = SentimentIntensityAnalyzer()\n",
    "\n",
    "def daily_sentiment(ticker=\"AAPL\"):\n",
    "    headlines = get_yahoo_finance_news(ticker)\n",
    "    scores = {\"pos\":0, \"neg\":0, \"neu\":0, \"compound\":0}\n",
    "    \n",
    "    for h in headlines:\n",
    "        s = sia.polarity_scores(h)\n",
    "        for k in scores:\n",
    "            scores[k] += s[k]\n",
    "    \n",
    "    n = len(headlines) if headlines else 1\n",
    "    for k in scores:\n",
    "        scores[k] /= n\n",
    "    return scores\n",
    "\n",
    "sentiment_today = daily_sentiment(\"AAPL\")\n",
    "print(sentiment_today)\n"
   ]
  },
  {
   "cell_type": "code",
   "execution_count": 7,
   "id": "715b7a38",
   "metadata": {},
   "outputs": [
    {
     "data": {
      "text/html": [
       "<div>\n",
       "<style scoped>\n",
       "    .dataframe tbody tr th:only-of-type {\n",
       "        vertical-align: middle;\n",
       "    }\n",
       "\n",
       "    .dataframe tbody tr th {\n",
       "        vertical-align: top;\n",
       "    }\n",
       "\n",
       "    .dataframe thead th {\n",
       "        text-align: right;\n",
       "    }\n",
       "</style>\n",
       "<table border=\"1\" class=\"dataframe\">\n",
       "  <thead>\n",
       "    <tr style=\"text-align: right;\">\n",
       "      <th></th>\n",
       "      <th>Date</th>\n",
       "      <th>pos</th>\n",
       "      <th>neg</th>\n",
       "      <th>neu</th>\n",
       "      <th>compound</th>\n",
       "    </tr>\n",
       "  </thead>\n",
       "  <tbody>\n",
       "    <tr>\n",
       "      <th>0</th>\n",
       "      <td>2025-02-19</td>\n",
       "      <td>0.051702</td>\n",
       "      <td>0.023018</td>\n",
       "      <td>0.925298</td>\n",
       "      <td>0.019109</td>\n",
       "    </tr>\n",
       "    <tr>\n",
       "      <th>1</th>\n",
       "      <td>2025-02-20</td>\n",
       "      <td>0.051702</td>\n",
       "      <td>0.023018</td>\n",
       "      <td>0.925298</td>\n",
       "      <td>0.019109</td>\n",
       "    </tr>\n",
       "    <tr>\n",
       "      <th>2</th>\n",
       "      <td>2025-02-21</td>\n",
       "      <td>0.051702</td>\n",
       "      <td>0.023018</td>\n",
       "      <td>0.925298</td>\n",
       "      <td>0.019109</td>\n",
       "    </tr>\n",
       "    <tr>\n",
       "      <th>3</th>\n",
       "      <td>2025-02-22</td>\n",
       "      <td>0.051702</td>\n",
       "      <td>0.023018</td>\n",
       "      <td>0.925298</td>\n",
       "      <td>0.019109</td>\n",
       "    </tr>\n",
       "    <tr>\n",
       "      <th>4</th>\n",
       "      <td>2025-02-23</td>\n",
       "      <td>0.051702</td>\n",
       "      <td>0.023018</td>\n",
       "      <td>0.925298</td>\n",
       "      <td>0.019109</td>\n",
       "    </tr>\n",
       "  </tbody>\n",
       "</table>\n",
       "</div>"
      ],
      "text/plain": [
       "        Date       pos       neg       neu  compound\n",
       "0 2025-02-19  0.051702  0.023018  0.925298  0.019109\n",
       "1 2025-02-20  0.051702  0.023018  0.925298  0.019109\n",
       "2 2025-02-21  0.051702  0.023018  0.925298  0.019109\n",
       "3 2025-02-22  0.051702  0.023018  0.925298  0.019109\n",
       "4 2025-02-23  0.051702  0.023018  0.925298  0.019109"
      ]
     },
     "execution_count": 7,
     "metadata": {},
     "output_type": "execute_result"
    }
   ],
   "source": [
    "dates = pd.date_range(end=datetime.today(), periods=180).strftime('%Y-%m-%d')\n",
    "\n",
    "sentiment_df = pd.DataFrame([\n",
    "    {\"Date\": d, **daily_sentiment(\"AAPL\")} for d in dates\n",
    "])\n",
    "\n",
    "sentiment_df[\"Date\"] = pd.to_datetime(sentiment_df[\"Date\"])\n",
    "sentiment_df.head()\n"
   ]
  },
  {
   "cell_type": "code",
   "execution_count": 8,
   "id": "2d123193",
   "metadata": {},
   "outputs": [
    {
     "name": "stderr",
     "output_type": "stream",
     "text": [
      "C:\\Users\\INDIA\\AppData\\Local\\Temp\\ipykernel_47044\\1973003056.py:1: FutureWarning: YF.download() has changed argument auto_adjust default to True\n",
      "  stock_df = yf.download(ticker, start=start, end=end)\n",
      "[*********************100%***********************]  1 of 1 completed\n"
     ]
    }
   ],
   "source": [
    "stock_df = yf.download(ticker, start=start, end=end)\n",
    "\n",
    "# Drop multi-level index if exists\n",
    "stock_df.columns = stock_df.columns.get_level_values(0)\n",
    "\n",
    "# Keep only Close price and reset index\n",
    "stock_df = stock_df[['Close']].reset_index()\n"
   ]
  },
  {
   "cell_type": "code",
   "execution_count": 9,
   "id": "e5c4fe07",
   "metadata": {},
   "outputs": [
    {
     "name": "stdout",
     "output_type": "stream",
     "text": [
      "        Date       Close       pos       neg       neu  compound  Next_Close\n",
      "0 2025-02-19  244.272079  0.051702  0.023018  0.925298  0.019109  245.229736\n",
      "1 2025-02-20  245.229736  0.051702  0.023018  0.925298  0.019109  244.950424\n",
      "2 2025-02-21  244.950424  0.051702  0.023018  0.925298  0.019109  246.496643\n",
      "3 2025-02-24  246.496643  0.051702  0.023018  0.925298  0.019109  246.436783\n",
      "4 2025-02-25  246.436783  0.051702  0.023018  0.925298  0.019109  239.773087\n"
     ]
    }
   ],
   "source": [
    "# Ensure Date is datetime in both DataFrames\n",
    "stock_df[\"Date\"] = pd.to_datetime(stock_df[\"Date\"])\n",
    "sentiment_df[\"Date\"] = pd.to_datetime(sentiment_df[\"Date\"])\n",
    "\n",
    "# Merge on Date\n",
    "merged_df = pd.merge(stock_df, sentiment_df, on=\"Date\", how=\"inner\")\n",
    "\n",
    "# Create target (next day's close)\n",
    "merged_df[\"Next_Close\"] = merged_df[\"Close\"].shift(-1)\n",
    "merged_df = merged_df.dropna()\n",
    "\n",
    "print(merged_df.head())\n"
   ]
  },
  {
   "cell_type": "code",
   "execution_count": 10,
   "id": "e05278a9",
   "metadata": {},
   "outputs": [
    {
     "data": {
      "text/plain": [
       "Close         0.93583\n",
       "pos               NaN\n",
       "neg               NaN\n",
       "neu               NaN\n",
       "compound          NaN\n",
       "Next_Close    1.00000\n",
       "Name: Next_Close, dtype: float64"
      ]
     },
     "execution_count": 10,
     "metadata": {},
     "output_type": "execute_result"
    }
   ],
   "source": [
    "merged_df.corr(numeric_only=True)['Next_Close']"
   ]
  },
  {
   "cell_type": "code",
   "execution_count": 11,
   "id": "a4220aad",
   "metadata": {},
   "outputs": [
    {
     "name": "stdout",
     "output_type": "stream",
     "text": [
      "<class 'pandas.core.frame.DataFrame'>\n",
      "Index: 123 entries, 0 to 122\n",
      "Data columns (total 7 columns):\n",
      " #   Column      Non-Null Count  Dtype         \n",
      "---  ------      --------------  -----         \n",
      " 0   Date        123 non-null    datetime64[ns]\n",
      " 1   Close       123 non-null    float64       \n",
      " 2   pos         123 non-null    float64       \n",
      " 3   neg         123 non-null    float64       \n",
      " 4   neu         123 non-null    float64       \n",
      " 5   compound    123 non-null    float64       \n",
      " 6   Next_Close  123 non-null    float64       \n",
      "dtypes: datetime64[ns](1), float64(6)\n",
      "memory usage: 7.7 KB\n"
     ]
    }
   ],
   "source": [
    "merged_df.info()"
   ]
  },
  {
   "cell_type": "code",
   "execution_count": 12,
   "id": "efc03605",
   "metadata": {},
   "outputs": [],
   "source": [
    "features = [\"Close\", \"pos\", \"neg\", \"neu\", \"compound\"]\n",
    "X = merged_df[features]\n",
    "y = merged_df[\"Next_Close\"]\n"
   ]
  },
  {
   "cell_type": "code",
   "execution_count": 14,
   "id": "d33a803f",
   "metadata": {},
   "outputs": [],
   "source": [
    "from sklearn.model_selection import train_test_split\n",
    "X_train, X_test, y_train, y_test = train_test_split(\n",
    "    X, y, test_size=0.3, shuffle=False  # keep time order\n",
    ")\n"
   ]
  },
  {
   "cell_type": "code",
   "execution_count": 15,
   "id": "88c81222",
   "metadata": {},
   "outputs": [],
   "source": [
    "import pandas as pd\n",
    "from sklearn.model_selection import train_test_split\n",
    "from sklearn.preprocessing import StandardScaler\n",
    "from sklearn.compose import ColumnTransformer\n",
    "from sklearn.pipeline import Pipeline\n",
    "from sklearn.ensemble import RandomForestRegressor\n",
    "from sklearn.metrics import mean_absolute_error, r2_score\n",
    "\n",
    "\n",
    "preprocessor = ColumnTransformer(\n",
    "    transformers=[\n",
    "        (\"num\", StandardScaler(), features)\n",
    "    ],\n",
    "    remainder=\"passthrough\"  # if we had extra cols, keep them\n",
    ")\n"
   ]
  },
  {
   "cell_type": "code",
   "execution_count": 16,
   "id": "6bbb0d78",
   "metadata": {},
   "outputs": [],
   "source": [
    "pipeline = Pipeline(steps=[\n",
    "    (\"preprocessor\", preprocessor),\n",
    "    (\"model\", RandomForestRegressor(\n",
    "        n_estimators=200,\n",
    "        max_depth=10,\n",
    "        random_state=42\n",
    "    ))\n",
    "])\n"
   ]
  },
  {
   "cell_type": "code",
   "execution_count": 17,
   "id": "e7297a8f",
   "metadata": {},
   "outputs": [
    {
     "name": "stdout",
     "output_type": "stream",
     "text": [
      "MAE: 3.5027149019197283\n",
      "R²: 0.6432629728181469\n"
     ]
    }
   ],
   "source": [
    "pipeline.fit(X_train, y_train)\n",
    "\n",
    "y_pred = pipeline.predict(X_test)\n",
    "\n",
    "print(\"MAE:\", mean_absolute_error(y_test, y_pred))\n",
    "print(\"R²:\", r2_score(y_test, y_pred))\n"
   ]
  },
  {
   "cell_type": "code",
   "execution_count": 18,
   "id": "d7f97643",
   "metadata": {},
   "outputs": [
    {
     "data": {
      "text/html": [
       "<div>\n",
       "<style scoped>\n",
       "    .dataframe tbody tr th:only-of-type {\n",
       "        vertical-align: middle;\n",
       "    }\n",
       "\n",
       "    .dataframe tbody tr th {\n",
       "        vertical-align: top;\n",
       "    }\n",
       "\n",
       "    .dataframe thead th {\n",
       "        text-align: right;\n",
       "    }\n",
       "</style>\n",
       "<table border=\"1\" class=\"dataframe\">\n",
       "  <thead>\n",
       "    <tr style=\"text-align: right;\">\n",
       "      <th></th>\n",
       "      <th>Close</th>\n",
       "      <th>pos</th>\n",
       "      <th>neg</th>\n",
       "      <th>neu</th>\n",
       "      <th>compound</th>\n",
       "    </tr>\n",
       "  </thead>\n",
       "  <tbody>\n",
       "    <tr>\n",
       "      <th>0</th>\n",
       "      <td>244.272079</td>\n",
       "      <td>0.051702</td>\n",
       "      <td>0.023018</td>\n",
       "      <td>0.925298</td>\n",
       "      <td>0.019109</td>\n",
       "    </tr>\n",
       "    <tr>\n",
       "      <th>1</th>\n",
       "      <td>245.229736</td>\n",
       "      <td>0.051702</td>\n",
       "      <td>0.023018</td>\n",
       "      <td>0.925298</td>\n",
       "      <td>0.019109</td>\n",
       "    </tr>\n",
       "    <tr>\n",
       "      <th>2</th>\n",
       "      <td>244.950424</td>\n",
       "      <td>0.051702</td>\n",
       "      <td>0.023018</td>\n",
       "      <td>0.925298</td>\n",
       "      <td>0.019109</td>\n",
       "    </tr>\n",
       "    <tr>\n",
       "      <th>3</th>\n",
       "      <td>246.496643</td>\n",
       "      <td>0.051702</td>\n",
       "      <td>0.023018</td>\n",
       "      <td>0.925298</td>\n",
       "      <td>0.019109</td>\n",
       "    </tr>\n",
       "    <tr>\n",
       "      <th>4</th>\n",
       "      <td>246.436783</td>\n",
       "      <td>0.051702</td>\n",
       "      <td>0.023018</td>\n",
       "      <td>0.925298</td>\n",
       "      <td>0.019109</td>\n",
       "    </tr>\n",
       "    <tr>\n",
       "      <th>...</th>\n",
       "      <td>...</td>\n",
       "      <td>...</td>\n",
       "      <td>...</td>\n",
       "      <td>...</td>\n",
       "      <td>...</td>\n",
       "    </tr>\n",
       "    <tr>\n",
       "      <th>81</th>\n",
       "      <td>198.195068</td>\n",
       "      <td>0.051702</td>\n",
       "      <td>0.023018</td>\n",
       "      <td>0.925298</td>\n",
       "      <td>0.019109</td>\n",
       "    </tr>\n",
       "    <tr>\n",
       "      <th>82</th>\n",
       "      <td>195.418213</td>\n",
       "      <td>0.051702</td>\n",
       "      <td>0.023018</td>\n",
       "      <td>0.925298</td>\n",
       "      <td>0.019109</td>\n",
       "    </tr>\n",
       "    <tr>\n",
       "      <th>83</th>\n",
       "      <td>196.357147</td>\n",
       "      <td>0.051702</td>\n",
       "      <td>0.023018</td>\n",
       "      <td>0.925298</td>\n",
       "      <td>0.019109</td>\n",
       "    </tr>\n",
       "    <tr>\n",
       "      <th>84</th>\n",
       "      <td>200.772141</td>\n",
       "      <td>0.051702</td>\n",
       "      <td>0.023018</td>\n",
       "      <td>0.925298</td>\n",
       "      <td>0.019109</td>\n",
       "    </tr>\n",
       "    <tr>\n",
       "      <th>85</th>\n",
       "      <td>201.271576</td>\n",
       "      <td>0.051702</td>\n",
       "      <td>0.023018</td>\n",
       "      <td>0.925298</td>\n",
       "      <td>0.019109</td>\n",
       "    </tr>\n",
       "  </tbody>\n",
       "</table>\n",
       "<p>86 rows × 5 columns</p>\n",
       "</div>"
      ],
      "text/plain": [
       "         Close       pos       neg       neu  compound\n",
       "0   244.272079  0.051702  0.023018  0.925298  0.019109\n",
       "1   245.229736  0.051702  0.023018  0.925298  0.019109\n",
       "2   244.950424  0.051702  0.023018  0.925298  0.019109\n",
       "3   246.496643  0.051702  0.023018  0.925298  0.019109\n",
       "4   246.436783  0.051702  0.023018  0.925298  0.019109\n",
       "..         ...       ...       ...       ...       ...\n",
       "81  198.195068  0.051702  0.023018  0.925298  0.019109\n",
       "82  195.418213  0.051702  0.023018  0.925298  0.019109\n",
       "83  196.357147  0.051702  0.023018  0.925298  0.019109\n",
       "84  200.772141  0.051702  0.023018  0.925298  0.019109\n",
       "85  201.271576  0.051702  0.023018  0.925298  0.019109\n",
       "\n",
       "[86 rows x 5 columns]"
      ]
     },
     "execution_count": 18,
     "metadata": {},
     "output_type": "execute_result"
    }
   ],
   "source": [
    "X_train"
   ]
  },
  {
   "cell_type": "code",
   "execution_count": 19,
   "id": "57ab9362",
   "metadata": {},
   "outputs": [
    {
     "name": "stdout",
     "output_type": "stream",
     "text": [
      "Predicted next close price: 237.41\n"
     ]
    }
   ],
   "source": [
    "latest_features = merged_df[features].iloc[-1:]\n",
    "next_day_prediction = pipeline.predict(latest_features)[0]\n",
    "\n",
    "print(f\"Predicted next close price: {next_day_prediction:.2f}\")\n"
   ]
  },
  {
   "cell_type": "code",
   "execution_count": 21,
   "id": "6eec3d3c",
   "metadata": {},
   "outputs": [],
   "source": [
    "import pandas as pd\n",
    "import numpy as np\n",
    "from sklearn.model_selection import TimeSeriesSplit\n",
    "from sklearn.preprocessing import StandardScaler\n",
    "from sklearn.compose import ColumnTransformer\n",
    "from sklearn.pipeline import Pipeline\n",
    "from sklearn.linear_model import LinearRegression, Ridge, Lasso\n",
    "from sklearn.svm import SVR\n",
    "from sklearn.ensemble import RandomForestRegressor, GradientBoostingRegressor\n",
    "from sklearn.neighbors import KNeighborsRegressor\n",
    "from sklearn.metrics import mean_absolute_error, r2_score\n",
    "\n",
    "\n",
    "models = {\n",
    "    \"Linear Regression\": LinearRegression(),\n",
    "    \"Ridge\": Ridge(alpha=1.0),\n",
    "    \"Lasso\": Lasso(alpha=0.001),\n",
    "    \"SVR (RBF)\": SVR(kernel=\"rbf\", C=100, gamma=0.1),\n",
    "    \"KNN\": KNeighborsRegressor(n_neighbors=5),\n",
    "    \"Random Forest\": RandomForestRegressor(n_estimators=200, max_depth=10, random_state=42),\n",
    "    \"Gradient Boosting\": GradientBoostingRegressor(n_estimators=200, learning_rate=0.05, max_depth=5, random_state=42)\n",
    "}\n"
   ]
  },
  {
   "cell_type": "code",
   "execution_count": 25,
   "id": "1a1fea25",
   "metadata": {},
   "outputs": [],
   "source": [
    "models = {\n",
    "    \"Linear Regression\": LinearRegression(),\n",
    "    \"Ridge\": Ridge(alpha=1.0),\n",
    "    \"Lasso\": Lasso(alpha=0.01),\n",
    "    \"SVR (RBF)\": SVR(kernel=\"rbf\", C=100, gamma=0.1),\n",
    "    \"KNN\": KNeighborsRegressor(n_neighbors=5),\n",
    "    \"Random Forest\": RandomForestRegressor(n_estimators=200, max_depth=10, random_state=42),\n",
    "    \"Gradient Boosting\": GradientBoostingRegressor(n_estimators=200, learning_rate=0.05, max_depth=5, random_state=42)\n",
    "}\n"
   ]
  },
  {
   "cell_type": "code",
   "execution_count": 26,
   "id": "9c05f782",
   "metadata": {},
   "outputs": [
    {
     "name": "stdout",
     "output_type": "stream",
     "text": [
      "                        MAE        R²\n",
      "Linear Regression  3.273149  0.499089\n",
      "Lasso              3.273829  0.498686\n",
      "Ridge              3.282630  0.487332\n",
      "SVR (RBF)          5.503136  0.171976\n",
      "KNN                5.876165  0.029319\n",
      "Random Forest      6.229315 -0.497933\n",
      "Gradient Boosting  6.919075 -1.679095\n"
     ]
    }
   ],
   "source": [
    "tscv = TimeSeriesSplit(n_splits=5)\n",
    "\n",
    "results = {}\n",
    "\n",
    "for name, model in models.items():\n",
    "    mae_scores, r2_scores = [], []\n",
    "    \n",
    "    pipeline = Pipeline(steps=[\n",
    "        (\"preprocessor\", preprocessor),\n",
    "        (\"model\", model)\n",
    "    ])\n",
    "    \n",
    "    for train_idx, test_idx in tscv.split(X):\n",
    "        X_train, X_test = X.iloc[train_idx], X.iloc[test_idx]\n",
    "        y_train, y_test = y.iloc[train_idx], y.iloc[test_idx]\n",
    "        \n",
    "        pipeline.fit(X_train, y_train)\n",
    "        y_pred = pipeline.predict(X_test)\n",
    "        \n",
    "        mae_scores.append(mean_absolute_error(y_test, y_pred))\n",
    "        r2_scores.append(r2_score(y_test, y_pred))\n",
    "    \n",
    "    results[name] = {\n",
    "        \"MAE\": np.mean(mae_scores),\n",
    "        \"R²\": np.mean(r2_scores)\n",
    "    }\n",
    "\n",
    "results_df = pd.DataFrame(results).T.sort_values(by=\"MAE\")\n",
    "print(results_df)\n"
   ]
  },
  {
   "cell_type": "code",
   "execution_count": 27,
   "id": "cf5a0195",
   "metadata": {},
   "outputs": [
    {
     "name": "stdout",
     "output_type": "stream",
     "text": [
      "Best Model: Linear Regression\n",
      "Predicted next close price for tomorrow: 230.99\n"
     ]
    }
   ],
   "source": [
    "best_model_name = results_df.index[0]\n",
    "print(f\"Best Model: {best_model_name}\")\n",
    "\n",
    "# Refit best model on all data\n",
    "best_model = models[best_model_name]\n",
    "pipeline = Pipeline(steps=[(\"preprocessor\", preprocessor), (\"model\", best_model)])\n",
    "pipeline.fit(X, y)\n",
    "\n",
    "latest_features = merged_df[features].iloc[-1:]\n",
    "next_day_prediction = pipeline.predict(latest_features)[0]\n",
    "\n",
    "print(f\"Predicted next close price for tomorrow: {next_day_prediction:.2f}\")\n"
   ]
  },
  {
   "cell_type": "code",
   "execution_count": 29,
   "id": "96df7b89",
   "metadata": {},
   "outputs": [
    {
     "name": "stderr",
     "output_type": "stream",
     "text": [
      "C:\\Users\\INDIA\\AppData\\Local\\Temp\\ipykernel_47044\\3623817003.py:26: FutureWarning: YF.download() has changed argument auto_adjust default to True\n",
      "  df = yf.download(ticker, start=start, end=end)\n",
      "[*********************100%***********************]  1 of 1 completed\n"
     ]
    },
    {
     "name": "stdout",
     "output_type": "stream",
     "text": [
      "\n",
      "Model Performance (Cross-Validation):\n",
      "                        MAE        R²\n",
      "Linear Regression  2.215202  0.955663\n",
      "Lasso Regression   2.220408  0.955497\n",
      "Ridge Regression   2.229898  0.955404\n",
      "Stacking           2.282525  0.953148\n",
      "Voting             5.738832  0.592633\n",
      "Weighted Voting    6.629220  0.427836\n",
      "Random Forest      7.738581  0.222017\n",
      "Gradient Boosting  8.260718  0.010347\n",
      "\n",
      "✅ Best ML Model Selected: Linear Regression\n",
      "💾 Model saved as AAPL_20250817.joblib\n",
      "\n",
      "📈 Predicted next close (ML AutoML) for AAPL (tomorrow): 232.60\n"
     ]
    }
   ],
   "source": [
    "import pandas as pd\n",
    "import numpy as np\n",
    "import joblib\n",
    "from sklearn.model_selection import TimeSeriesSplit\n",
    "from sklearn.preprocessing import StandardScaler\n",
    "from sklearn.compose import ColumnTransformer\n",
    "from sklearn.pipeline import Pipeline\n",
    "from sklearn.linear_model import LinearRegression, Ridge, Lasso\n",
    "from sklearn.ensemble import (\n",
    "    RandomForestRegressor,\n",
    "    GradientBoostingRegressor,\n",
    "    VotingRegressor,\n",
    "    StackingRegressor\n",
    ")\n",
    "from sklearn.metrics import mean_absolute_error, r2_score\n",
    "import yfinance as yf\n",
    "from datetime import datetime\n",
    "\n",
    "# -------------------------------\n",
    "# 1. Download Stock Data (e.g., GOOG)\n",
    "# -------------------------------\n",
    "ticker = \"AAPL\"\n",
    "start = \"2020-01-01\"\n",
    "end = datetime.today().strftime('%Y-%m-%d')\n",
    "\n",
    "df = yf.download(ticker, start=start, end=end)\n",
    "\n",
    "# Flatten possible MultiIndex columns\n",
    "df.columns = df.columns.get_level_values(0)\n",
    "\n",
    "# Keep OHLC\n",
    "df = df.loc[:, [\"Open\", \"High\", \"Low\", \"Close\"]].reset_index()\n",
    "\n",
    "# Create target: Next day's Close\n",
    "df[\"Next_Close\"] = df[\"Close\"].shift(-1)\n",
    "df = df.dropna().reset_index(drop=True)\n",
    "\n",
    "# -------------------------------\n",
    "# 2. Features & Preprocessor\n",
    "# -------------------------------\n",
    "features = [\"Open\", \"High\", \"Low\", \"Close\"]\n",
    "X = df[features]\n",
    "y = df[\"Next_Close\"]\n",
    "\n",
    "preprocessor = ColumnTransformer(\n",
    "    transformers=[(\"num\", StandardScaler(), features)],\n",
    "    remainder=\"drop\"\n",
    ")\n",
    "\n",
    "# -------------------------------\n",
    "# 3. Candidate ML Models\n",
    "# -------------------------------\n",
    "lr = LinearRegression()\n",
    "ridge = Ridge(alpha=1.0)\n",
    "lasso = Lasso(alpha=0.001, max_iter=30000)\n",
    "rf = RandomForestRegressor(n_estimators=200, max_depth=10, random_state=42)\n",
    "gb = GradientBoostingRegressor(n_estimators=200, learning_rate=0.05, max_depth=5, random_state=42)\n",
    "\n",
    "voting_reg = VotingRegressor(estimators=[(\"lr\", lr), (\"rf\", rf), (\"gb\", gb)])\n",
    "weighted_voting_reg = VotingRegressor(\n",
    "    estimators=[(\"lr\", lr), (\"rf\", rf), (\"gb\", gb)],\n",
    "    weights=[1, 2, 2]\n",
    ")\n",
    "stacking_reg = StackingRegressor(\n",
    "    estimators=[(\"lr\", lr), (\"rf\", rf), (\"gb\", gb)],\n",
    "    final_estimator=Ridge(alpha=1.0)\n",
    ")\n",
    "\n",
    "models = {\n",
    "    \"Linear Regression\": lr,\n",
    "    \"Ridge Regression\": ridge,\n",
    "    \"Lasso Regression\": lasso,\n",
    "    \"Random Forest\": rf,\n",
    "    \"Gradient Boosting\": gb,\n",
    "    \"Voting\": voting_reg,\n",
    "    \"Weighted Voting\": weighted_voting_reg,\n",
    "    \"Stacking\": stacking_reg\n",
    "}\n",
    "\n",
    "# -------------------------------\n",
    "# 4. Evaluate ML Models\n",
    "# -------------------------------\n",
    "tscv = TimeSeriesSplit(n_splits=5)\n",
    "results = {}\n",
    "\n",
    "for name, model in models.items():\n",
    "    mae_scores, r2_scores = [], []\n",
    "    pipeline = Pipeline(steps=[(\"preprocessor\", preprocessor), (\"model\", model)])\n",
    "    \n",
    "    for train_idx, test_idx in tscv.split(X):\n",
    "        X_train, X_test = X.iloc[train_idx], X.iloc[test_idx]\n",
    "        y_train, y_test = y.iloc[train_idx], y.iloc[test_idx]\n",
    "        \n",
    "        pipeline.fit(X_train, y_train)\n",
    "        y_pred = pipeline.predict(X_test)\n",
    "        \n",
    "        mae_scores.append(mean_absolute_error(y_test, y_pred))\n",
    "        r2_scores.append(r2_score(y_test, y_pred))\n",
    "    \n",
    "    results[name] = {\"MAE\": np.mean(mae_scores), \"R²\": np.mean(r2_scores)}\n",
    "\n",
    "# -------------------------------\n",
    "# 5. Results\n",
    "# -------------------------------\n",
    "results_df = pd.DataFrame(results).T.sort_values(by=\"MAE\", na_position=\"last\")\n",
    "print(\"\\nModel Performance (Cross-Validation):\")\n",
    "print(results_df)\n",
    "\n",
    "# -------------------------------\n",
    "# 6. AutoML: Pick Best ML Model\n",
    "# -------------------------------\n",
    "best_model_name = results_df.dropna().index[0]\n",
    "print(f\"\\n✅ Best ML Model Selected: {best_model_name}\")\n",
    "\n",
    "best_model = models[best_model_name]\n",
    "final_pipeline = Pipeline(steps=[(\"preprocessor\", preprocessor), (\"model\", best_model)])\n",
    "final_pipeline.fit(X, y)\n",
    "\n",
    "# -------------------------------\n",
    "# 7. Save Model as {ticker}_{today}.joblib\n",
    "# -------------------------------\n",
    "today_str = datetime.today().strftime(\"%Y%m%d\")\n",
    "model_filename = f\"{ticker}_{today_str}.joblib\"\n",
    "joblib.dump(final_pipeline, model_filename)\n",
    "print(f\"💾 Model saved as {model_filename}\")\n",
    "\n",
    "# -------------------------------\n",
    "# 8. Predict Tomorrow’s Price\n",
    "# -------------------------------\n",
    "latest_features = df[features].iloc[-1:]\n",
    "next_day_prediction = final_pipeline.predict(latest_features)[0]\n",
    "\n",
    "print(f\"\\n📈 Predicted next close (ML AutoML) for {ticker} (tomorrow): {next_day_prediction:.2f}\")\n"
   ]
  },
  {
   "cell_type": "code",
   "execution_count": null,
   "id": "ef9d00f0",
   "metadata": {},
   "outputs": [],
   "source": []
  }
 ],
 "metadata": {
  "kernelspec": {
   "display_name": "Python 3",
   "language": "python",
   "name": "python3"
  },
  "language_info": {
   "codemirror_mode": {
    "name": "ipython",
    "version": 3
   },
   "file_extension": ".py",
   "mimetype": "text/x-python",
   "name": "python",
   "nbconvert_exporter": "python",
   "pygments_lexer": "ipython3",
   "version": "3.10.0"
  }
 },
 "nbformat": 4,
 "nbformat_minor": 5
}
